{
 "cells": [
  {
   "cell_type": "markdown",
   "metadata": {},
   "source": [
    "# Final Project: Lord of the Rings Quiz!"
   ]
  },
  {
   "cell_type": "markdown",
   "metadata": {},
   "source": [
    "### Description:\n",
    "For my final project I decided to take the \"Choose your own Adventure\" route!\n",
    "\n",
    "I grew up watching and reading all of Lord of the Ring in middle school, and being a huge J.R.R. Tolkien fan I decided to make a simple yet fun project where it asks you 10 questions regarding the Tolkien Universe, and gives you a score out of 10. But theres also a fun twist! For your final score out of 10, there will be a unique message depending on what score you got!\n",
    "\n",
    "To create this whole thing, I made a Class called Question, which has to be imported. It has a method with two inputs, \"prompt\" and \"answer\". Calling on this class in this notebook, I establish the list of questions I will be asking, and insert them as its \"prompt\" input, with their correct answer being inserted as the \"answer\" input. \n",
    "\n",
    "I then import two functions I made in the functions.py file, \"max_score\" and \"run_test\". \n",
    "- The function \"max_score\" is a function that takes in a input from 0 to 10, and for every score in that range, it prints a string with a unique message. \n",
    "- The function \"run_test\" will run the questions using a for loop and add 1 to score if you got the previous question correct. At the end of its loop, it calls on the max_score function, which will take your score value as input, and return a unique message to you depending on how many points you got correct out of 10!\n",
    "\n",
    "Next, I create a list called \"question prompts\" which has a list of questions followed by 4 possible answers, labelled a, b, c, and d. Then I will assign each question in that list to the \"prompt\" input of my Question class. I'll then assign the correct answer for that question in string form as well, to the \"answer\" input of the class. I assign thise whole new list to a variable, called \"questions\".  \n",
    "\n",
    "Finally, I run the \"run_test\" function and insert the above list as its input, innitiating the loop through the questions, and starting the quiz! I hope you enjoy!"
   ]
  },
  {
   "cell_type": "markdown",
   "metadata": {},
   "source": [
    "### Project Code:"
   ]
  },
  {
   "cell_type": "code",
   "execution_count": 1,
   "metadata": {
    "scrolled": true
   },
   "outputs": [],
   "source": [
    "from my_module.classes import Question        #importing my Question class from my_module.\n",
    "from my_module.functions import run_test      #importing my run_test function from my_module.\n",
    "from my_module.functions import max_score     #importing my  max_score function from my_module."
   ]
  },
  {
   "cell_type": "code",
   "execution_count": 2,
   "metadata": {},
   "outputs": [],
   "source": [
    "#Here we make a list, with ten total indexes, 0-9. \n",
    "#Within each index is a string, which contains a question, followed by 4 possible answers, labelled a, b, c, and d. \n",
    "question_prompts = [\"How many members did the Fellowship have?\\n(a) Four\\n(b) Six\\n(c) Seven\\n(d) Nine\\n\\n\",\n",
    "                    \"How many Hobbits were there in the Fellowship?\\n(a) One\\n(b) Two\\n(c) Three\\n(d) Four\\n\\n\",\n",
    "                    \"Where did Aragorn primarly grow up?\\n(a) Rivendell\\n(b) Gondor\\n(c) Rohan\\n(d) Arnor\\n\\n\",\n",
    "                    \"Who created the Rings of Power?\\n(a) Morgoth\\n(b) Sauron\\n(c) Galadriel\\n(d) Elrond\\n\\n\",\n",
    "                    \"Who created the Orcs?\\n(a) Morgoth\\n(b) Sauron\\n(c) Eu Ilúvatar\\n(d) Saruman\\n\\n\",\n",
    "                    \"Who lead an expedition into the Mines of Moria?\\n(a) Dwalin\\n(b) Thorin\\n(c) Balin\\n(d) Thrain\\n\\n\",\n",
    "                    \"Which race recieved the most Rings of Power?\\n(a) Elves\\n(b) Men\\n(c) Dwarves\\n(d) Hobbits\\n\\n\",\n",
    "                    \"How many wizards were sent to Middle Earth by the Gods?\\n(a) One\\n(b) Three\\n(c) Five\\n(d) Seven\\n\\n\",\n",
    "                    \"Who became the king of Gondor?\\n(a) Boromir\\n(b) Faramir\\n(c) Aragorn\\n(d) Denethor II\\n\\n\",\n",
    "                    \"Which kingdom is ruled by Galadriel?\\n(a) Lothlorien\\n(b) Rivendell\\n(c) Mirkwood\\n(d) Gondolin\\n\\n\"]"
   ]
  },
  {
   "cell_type": "code",
   "execution_count": 3,
   "metadata": {
    "scrolled": true
   },
   "outputs": [],
   "source": [
    "#Here we call on our Question class to assign strings as its questions and answers for it's one method. \n",
    "#I then assign this all to a variable called \"questions\".\n",
    "questions = [Question(question_prompts[0],\"d\"),\n",
    "            #Assigning the string in the 0 index from the \"question prompts\" as the prompt, and assigning \"d\" as correct answer.\n",
    "            Question(question_prompts[1],\"d\"),\n",
    "            #Assigning the string in the 1 index from the \"question prompts\" as the prompt, and assigning \"d\" as correct answer. \n",
    "            Question(question_prompts[2],\"a\"),\n",
    "            #Assigning the string in the 2 index from the \"question prompts\" as the prompt, and assigning \"a\" as correct answer. \n",
    "            Question(question_prompts[3],\"b\"),\n",
    "            #Assigning the string in the 3 index from the \"question prompts\" as the prompt, and assigning \"b\" as correct answer. \n",
    "            Question(question_prompts[4],\"a\"),\n",
    "            #Assigning the string in the 4 index from the \"question prompts\" as the prompt, and assigning \"a\" as correct answer. \n",
    "            Question(question_prompts[5],\"c\"),\n",
    "            #Assigning the string in the 5 index from the \"question prompts\" as the prompt, and assigning \"c\" as correct answer. \n",
    "            Question(question_prompts[6],\"b\"),\n",
    "            #Assigning the string in the 6 index from the \"question prompts\" as the prompt, and assigning \"b\" as correct answer. \n",
    "            Question(question_prompts[7],\"c\"),\n",
    "            #Assigning the string in the 7 index from the \"question prompts\" as the prompt, and assigning \"c\" as correct answer. \n",
    "            Question(question_prompts[8],\"c\"),\n",
    "            #Assigning the string in the 8 index from the \"question prompts\" as the prompt, and assigning \"c\" as correct answer. \n",
    "            Question(question_prompts[9],\"a\")]\n",
    "            #Assigning the string in the 9 index from the \"question prompts\" as the prompt, and assigning \"a\" as correct answer."
   ]
  },
  {
   "cell_type": "code",
   "execution_count": 4,
   "metadata": {},
   "outputs": [
    {
     "name": "stdin",
     "output_type": "stream",
     "text": [
      "How many members did the Fellowship have?\n",
      "(a) Four\n",
      "(b) Six\n",
      "(c) Seven\n",
      "(d) Nine\n",
      "\n",
      " a\n",
      "How many Hobbits were there in the Fellowship?\n",
      "(a) One\n",
      "(b) Two\n",
      "(c) Three\n",
      "(d) Four\n",
      "\n",
      " b\n",
      "Where did Aragorn primarly grow up?\n",
      "(a) Rivendell\n",
      "(b) Gondor\n",
      "(c) Rohan\n",
      "(d) Arnor\n",
      "\n",
      " c\n",
      "Who created the Rings of Power?\n",
      "(a) Morgoth\n",
      "(b) Sauron\n",
      "(c) Galadriel\n",
      "(d) Elrond\n",
      "\n",
      " d\n",
      "Who created the Orcs?\n",
      "(a) Morgoth\n",
      "(b) Sauron\n",
      "(c) Eu Ilúvatar\n",
      "(d) Saruman\n",
      "\n",
      " a\n",
      "Who lead an expedition into the Mines of Moria?\n",
      "(a) Dwalin\n",
      "(b) Thorin\n",
      "(c) Balin\n",
      "(d) Thrain\n",
      "\n",
      " b\n",
      "Which race recieved the most Rings of Power?\n",
      "(a) Elves\n",
      "(b) Men\n",
      "(c) Dwarves\n",
      "(d) Hobbits\n",
      "\n",
      " c\n",
      "How many wizards were sent to Middle Earth by the Gods?\n",
      "(a) One\n",
      "(b) Three\n",
      "(c) Five\n",
      "(d) Seven\n",
      "\n",
      " d\n",
      "Who became the king of Gondor?\n",
      "(a) Boromir\n",
      "(b) Faramir\n",
      "(c) Aragorn\n",
      "(d) Denethor II\n",
      "\n",
      " a\n",
      "Which kingdom is ruled by Galadriel?\n",
      "(a) Lothlorien\n",
      "(b) Rivendell\n",
      "(c) Mirkwood\n",
      "(d) Gondolin\n",
      "\n",
      " b\n"
     ]
    },
    {
     "name": "stdout",
     "output_type": "stream",
     "text": [
      "You got 1/10 correct!\n",
      "I'm betting the only other thing you know about LOTR is 'There's a Wizard named Gandalf', huh?\n"
     ]
    }
   ],
   "source": [
    "#Running the run_test function with questions from above as inputs, to initialize the quiz!\n",
    "#Run this function again after you've taken the quiz to play again!\n",
    "run_test(questions) "
   ]
  },
  {
   "cell_type": "markdown",
   "metadata": {},
   "source": [
    "#### Extra Credit (*optional*)\n",
    "1. My Python Background entering this class was absolutely nothing. However in the 9 weeks in this class so far, I have learned a very solid foundation which I will be able to use for coding classes going forward! \n",
    "2. Going to be completely honest, I don't think my project went above and beyond. But this isn't due to lazyness, or non-caringness. I simply had 3 other projecs to take care of, as well as being an IA for another cogs course (COGS 10), so I hope this project was worthy enough to earn me a good grade, which I will happily accept! :) Thank you for a wonderful quarter, and a special thanks to Professor Ellis for being awesome and Geoff for being an amazing TA, always there for help!"
   ]
  }
 ],
 "metadata": {
  "kernelspec": {
   "display_name": "Python 3",
   "language": "python",
   "name": "python3"
  },
  "language_info": {
   "codemirror_mode": {
    "name": "ipython",
    "version": 3
   },
   "file_extension": ".py",
   "mimetype": "text/x-python",
   "name": "python",
   "nbconvert_exporter": "python",
   "pygments_lexer": "ipython3",
   "version": "3.7.6"
  }
 },
 "nbformat": 4,
 "nbformat_minor": 4
}
